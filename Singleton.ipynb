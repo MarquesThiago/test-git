{
 "cells": [
  {
   "cell_type": "markdown",
   "id": "dc5e094b",
   "metadata": {},
   "source": [
    "# SIGLETON"
   ]
  },
  {
   "cell_type": "markdown",
   "id": "fb25f18c",
   "metadata": {},
   "source": [
    "## INTRODUÇÃO"
   ]
  },
  {
   "cell_type": "markdown",
   "id": "9ffd71b1",
   "metadata": {},
   "source": [
    "singleton é uma forma  de designer pattern, onde criamos uma classe que vai instanciar um objeto na primeira vez que for chamada e nas proximas vezes que a classe for chamada ela vai retornar o primeiro onjeto que foi criada"
   ]
  },
  {
   "cell_type": "markdown",
   "id": "5a3d08cd",
   "metadata": {},
   "source": [
    "## implementação simples"
   ]
  },
  {
   "cell_type": "markdown",
   "id": "f850b6b0",
   "metadata": {},
   "source": [
    "metodo \"new\" controle a criação do objeto na classe e executa antes do init"
   ]
  },
  {
   "cell_type": "code",
   "execution_count": 1,
   "id": "51684298",
   "metadata": {},
   "outputs": [],
   "source": [
    "class SingletonObject:\n",
    "    def __new__(cls):\n",
    "        if not hasattr(cls, 'instance'):\n",
    "            cls.instance = super(\n",
    "                SingletonObject, cls).__new__(cls)\n",
    "            print(\"objeto criado\")\n",
    "        return cls"
   ]
  },
  {
   "cell_type": "code",
   "execution_count": 2,
   "id": "98e51610",
   "metadata": {},
   "outputs": [
    {
     "name": "stdout",
     "output_type": "stream",
     "text": [
      "objeto criado\n"
     ]
    }
   ],
   "source": [
    "# primerio objeto\n",
    "s1 = SingletonObject()\n",
    "\n",
    "#segundo objeto\n",
    "s2 =SingletonObject()"
   ]
  },
  {
   "cell_type": "code",
   "execution_count": 3,
   "id": "f9493820",
   "metadata": {},
   "outputs": [
    {
     "name": "stdout",
     "output_type": "stream",
     "text": [
      "identificação do objeto s1:1634272827472\n",
      "identificação do objeto s2:1634272827472\n"
     ]
    }
   ],
   "source": [
    "print(f\"identificação do objeto s1:{id(s1)}\\nidentificação do objeto s2:{id(s2)}\")"
   ]
  },
  {
   "cell_type": "markdown",
   "id": "ae40aab1",
   "metadata": {},
   "source": [
    "Tudo que for realizado em uma dos objetos reflete no outro, até mesmo por que são o mesmo objeto com nomes diferentes"
   ]
  },
  {
   "cell_type": "code",
   "execution_count": 4,
   "id": "393b8700",
   "metadata": {},
   "outputs": [
    {
     "data": {
      "text/plain": [
       "'Pedro'"
      ]
     },
     "execution_count": 4,
     "metadata": {},
     "output_type": "execute_result"
    }
   ],
   "source": [
    "s1.nome = \"Pedro\"\n",
    "s1.nome"
   ]
  },
  {
   "cell_type": "code",
   "execution_count": 5,
   "id": "a24fa0f2",
   "metadata": {},
   "outputs": [
    {
     "data": {
      "text/plain": [
       "'Pedro'"
      ]
     },
     "execution_count": 5,
     "metadata": {},
     "output_type": "execute_result"
    }
   ],
   "source": [
    "s2.nome"
   ]
  },
  {
   "cell_type": "code",
   "execution_count": null,
   "id": "d04d34d2",
   "metadata": {},
   "outputs": [],
   "source": []
  },
  {
   "cell_type": "markdown",
   "id": "209d2aa4",
   "metadata": {},
   "source": [
    "## singleton monoState "
   ]
  },
  {
   "cell_type": "code",
   "execution_count": 6,
   "id": "60aeba92",
   "metadata": {},
   "outputs": [],
   "source": [
    "class MonoState():\n",
    "    \n",
    "    __state = {}\n",
    "    \n",
    "    def __new__(cls):\n",
    "        obj = super(MonoState, cls).__new__(cls)\n",
    "        obj.__dict__ = cls.__state\n",
    "        return obj\n",
    "    \n",
    "    \n",
    "    @property\n",
    "    def state(self):\n",
    "        return self.__dict__\n",
    "    \n",
    "    @state.setter\n",
    "    def state(self, value):\n",
    "        self.__state.update(value)\n",
    "    "
   ]
  },
  {
   "cell_type": "code",
   "execution_count": 7,
   "id": "89eba2e6",
   "metadata": {},
   "outputs": [],
   "source": [
    "MonoOne = MonoState()\n",
    "MonoOne.teste = \"vai\""
   ]
  },
  {
   "cell_type": "code",
   "execution_count": 8,
   "id": "706d621c",
   "metadata": {},
   "outputs": [
    {
     "data": {
      "text/plain": [
       "'vai'"
      ]
     },
     "execution_count": 8,
     "metadata": {},
     "output_type": "execute_result"
    }
   ],
   "source": [
    "MonoOne.teste"
   ]
  },
  {
   "cell_type": "code",
   "execution_count": 9,
   "id": "b40c95af",
   "metadata": {},
   "outputs": [],
   "source": [
    "MonoTo = MonoState()\n",
    "MonoTo.test = \"error\"\n",
    "MonoTo.state = {\"teste\": \"error\"}"
   ]
  },
  {
   "cell_type": "code",
   "execution_count": 10,
   "id": "c6c1ff14",
   "metadata": {},
   "outputs": [
    {
     "data": {
      "text/plain": [
       "{'teste': 'error', 'test': 'error'}"
      ]
     },
     "execution_count": 10,
     "metadata": {},
     "output_type": "execute_result"
    }
   ],
   "source": [
    "MonoOne.__dict__"
   ]
  },
  {
   "cell_type": "code",
   "execution_count": null,
   "id": "9b876e93",
   "metadata": {},
   "outputs": [],
   "source": []
  },
  {
   "cell_type": "markdown",
   "id": "f775a802",
   "metadata": {},
   "source": [
    "## Meta Classes"
   ]
  },
  {
   "cell_type": "code",
   "execution_count": null,
   "id": "88bab92d",
   "metadata": {},
   "outputs": [],
   "source": []
  },
  {
   "cell_type": "code",
   "execution_count": 21,
   "id": "8b93a656",
   "metadata": {},
   "outputs": [],
   "source": [
    "class Logger(type): \n",
    "    \n",
    "    def __call__(cls, *args, **kwargs):\n",
    "        return type.__call__(cls, *args, **kwargs)\n",
    "        \n",
    "    "
   ]
  },
  {
   "cell_type": "code",
   "execution_count": 22,
   "id": "8b060702",
   "metadata": {},
   "outputs": [],
   "source": [
    "class Info(metaclass=Logger):\n",
    "    \n",
    "    __logs = {}\n",
    "    \n",
    "    \n",
    "    @property\n",
    "    def logs(self):\n",
    "        return self.__logs\n",
    "    \n",
    "    @logs.setter\n",
    "    def logs(self, value):\n",
    "        self.__logs.update({\"info\": value})\n",
    "    "
   ]
  },
  {
   "cell_type": "code",
   "execution_count": 23,
   "id": "88df33c2",
   "metadata": {},
   "outputs": [],
   "source": [
    "class Warning(metaclass=Logger):\n",
    "    \n",
    "    __logs = {}\n",
    "    \n",
    "    \n",
    "    @property\n",
    "    def logs(self):\n",
    "        return self.__logs\n",
    "    \n",
    "    @logs.setter\n",
    "    def logs(self, value):\n",
    "        self.__logs.update({\"warn\": value})"
   ]
  },
  {
   "cell_type": "code",
   "execution_count": 24,
   "id": "74bda46d",
   "metadata": {},
   "outputs": [],
   "source": [
    "info = Info()\n",
    "info.logs = \"test\""
   ]
  },
  {
   "cell_type": "code",
   "execution_count": 25,
   "id": "bade0223",
   "metadata": {},
   "outputs": [],
   "source": [
    "warn = Warning()\n",
    "warn.logs = \"test\""
   ]
  },
  {
   "cell_type": "code",
   "execution_count": 26,
   "id": "f8d5913e",
   "metadata": {},
   "outputs": [
    {
     "data": {
      "text/plain": [
       "{'warn': 'test'}"
      ]
     },
     "execution_count": 26,
     "metadata": {},
     "output_type": "execute_result"
    }
   ],
   "source": [
    "warn.logs"
   ]
  },
  {
   "cell_type": "code",
   "execution_count": 27,
   "id": "a48121f2",
   "metadata": {},
   "outputs": [],
   "source": [
    "infoto = Info()\n",
    "infoto.logs = \"new\""
   ]
  },
  {
   "cell_type": "code",
   "execution_count": 28,
   "id": "dad2fc8a",
   "metadata": {},
   "outputs": [
    {
     "data": {
      "text/plain": [
       "{'info': 'new'}"
      ]
     },
     "execution_count": 28,
     "metadata": {},
     "output_type": "execute_result"
    }
   ],
   "source": [
    "info.logs"
   ]
  },
  {
   "cell_type": "code",
   "execution_count": 29,
   "id": "eb5763e8",
   "metadata": {},
   "outputs": [
    {
     "data": {
      "text/plain": [
       "{'warn': 'test'}"
      ]
     },
     "execution_count": 29,
     "metadata": {},
     "output_type": "execute_result"
    }
   ],
   "source": [
    "tesWarn = Warning()\n",
    "warn.logs"
   ]
  },
  {
   "cell_type": "code",
   "execution_count": null,
   "id": "dd961eaf",
   "metadata": {},
   "outputs": [],
   "source": []
  },
  {
   "cell_type": "code",
   "execution_count": null,
   "id": "d83744fe",
   "metadata": {},
   "outputs": [],
   "source": []
  },
  {
   "cell_type": "code",
   "execution_count": 30,
   "id": "3142ae75",
   "metadata": {},
   "outputs": [],
   "source": [
    "class Logger(type): \n",
    "    \n",
    "    __instance = []\n",
    "    \n",
    "    def __call__(cls, *args, **kwargs):\n",
    "        if cls not in  cls.__instance:\n",
    "            cls.__instance[cls] = super(Logger, cls).__call__(*args, **kwargs)\n",
    "            return cls._instance[cls]\n",
    "    \n"
   ]
  },
  {
   "cell_type": "code",
   "execution_count": null,
   "id": "bd76aedc",
   "metadata": {},
   "outputs": [],
   "source": []
  },
  {
   "cell_type": "code",
   "execution_count": null,
   "id": "8d7be571",
   "metadata": {},
   "outputs": [],
   "source": []
  },
  {
   "cell_type": "markdown",
   "id": "5ebeaf92",
   "metadata": {},
   "source": [
    "## Desvantagens"
   ]
  },
  {
   "cell_type": "markdown",
   "id": "0b04c1ac",
   "metadata": {},
   "source": [
    "- O singleton ele utliza um escopo global, então uma variavel poder ser sobre escrita por algum desenvolvedor ou por esta no escopo global se um usario instancia uma variavel de mesmo nome pode sobre escrever essa base"
   ]
  },
  {
   "cell_type": "markdown",
   "id": "70047bae",
   "metadata": {},
   "source": [
    "- podemos ter varias variaveis que apontam para o mesmo objeto "
   ]
  },
  {
   "cell_type": "markdown",
   "id": "84bf024d",
   "metadata": {},
   "source": [
    "- Alta dependencia e acoplamento, pois uma mudança no dado global da classe pode refletir em todas as outras classes dependentes"
   ]
  },
  {
   "cell_type": "markdown",
   "id": "91b1cc9c",
   "metadata": {},
   "source": []
  },
  {
   "cell_type": "markdown",
   "id": "e5a5ae53",
   "metadata": {},
   "source": []
  }
 ],
 "metadata": {
  "kernelspec": {
   "display_name": "Python 3 (ipykernel)",
   "language": "python",
   "name": "python3"
  },
  "language_info": {
   "codemirror_mode": {
    "name": "ipython",
    "version": 3
   },
   "file_extension": ".py",
   "mimetype": "text/x-python",
   "name": "python",
   "nbconvert_exporter": "python",
   "pygments_lexer": "ipython3",
   "version": "3.10.2"
  }
 },
 "nbformat": 4,
 "nbformat_minor": 5
}
