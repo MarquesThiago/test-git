{
 "cells": [
  {
   "cell_type": "markdown",
   "id": "c9ab5a95",
   "metadata": {},
   "source": [
    "# Documentation pytest"
   ]
  },
  {
   "attachments": {},
   "cell_type": "markdown",
   "id": "35b144c7",
   "metadata": {},
   "source": [
    "O **pytest** é uma lib super flexível, escalável, compatível com vários plugins, estável com suporte ao PyPy "
   ]
  },
  {
   "cell_type": "markdown",
   "id": "a4ec5bfc",
   "metadata": {},
   "source": [
    "## Executando o Pytest"
   ]
  },
  {
   "attachments": {},
   "cell_type": "markdown",
   "id": "8c2e1cc9",
   "metadata": {},
   "source": [
    "O mínimo para para executar o pytest são que as funções de testes sejam nomeadas com o sufixo \"test_\". Assim como classes devem começar com Test\\<AlgumaCoisa\\>\n",
    "\n",
    "``` python \n",
    "\n",
    "def test_any_function():\n",
    "    pass\n",
    "\n",
    "```"
   ]
  },
  {
   "attachments": {},
   "cell_type": "markdown",
   "id": "9e4c6c16",
   "metadata": {},
   "source": [
    "Dentro do pytest o que em outros lugares como o unittest de python onde temos vários tipos de assert, \n",
    "como assetIsEqual AssertNotEqual, isso e substituído por apenas assert\n",
    "\n",
    "```python \n",
    "\n",
    "def test_anu_function():\n",
    "    assert True\n",
    "```"
   ]
  },
  {
   "attachments": {},
   "cell_type": "markdown",
   "id": "b51833df",
   "metadata": {},
   "source": [
    "Quando vamos escrever testes, por praxe utilizamos nomes grandes que para dar o entendimento do que aquela função faz"
   ]
  },
  {
   "attachments": {},
   "cell_type": "markdown",
   "id": "7b3dcc50",
   "metadata": {},
   "source": [
    "Ainda no Assunto de teste é importante entender que os testes é divido em três partes, e que provem ja de técnicas de BDD, e são:\n",
    "\n",
    "* Given: Dado\n",
    "* when: Quando\n",
    "* then: então\n",
    "\n",
    "ou seja, **dado** esse valor ... de entrada **quando** for realizar isso ... ***então** é igual a ...\n",
    "\n",
    "O que nos estamos olhando nos pontos marcados são os valores correspondente a esses três pontos, na frase a cima \n",
    "\n",
    "\n",
    "Ougando na pratica seria:\n",
    "\n",
    "```python\n",
    "\n",
    "    def squart(x):\n",
    "        \"\"\"\n",
    "        função que recebe um valor numérico e \n",
    "        eleva ele ao quadrado\n",
    "        \"\"\"\n",
    "        return x**2\n",
    "\n",
    "    # minha condição de teste\n",
    "    # Given: dado 2 como entrada\n",
    "    # When: quando executar a minha função de\n",
    "    #   elevar um numero ao quadrado\n",
    "    # then: então o resultado deve ser 4\n",
    "\n",
    "    # teste\n",
    "    def test_squart_number():\n",
    "        numero = 2 # given\n",
    "        esperado = 4 # given \n",
    "\n",
    "        result = squart(2) # when \n",
    "\n",
    "        assert result == esperado # then\n",
    "\n",
    "```"
   ]
  },
  {
   "cell_type": "markdown",
   "id": "5bed34bb",
   "metadata": {},
   "source": [
    "### Terminal do Pytest"
   ]
  },
  {
   "attachments": {},
   "cell_type": "markdown",
   "id": "0ba7e96d",
   "metadata": {},
   "source": [
    "Para rodar os nossos testes utilizaremos o terminal de testes com o comando pytest mais onde esta os meus testes por exemplo:\n",
    "\n",
    "```bash\n",
    "\n",
    "pytest [options] [file or dir] [file or dir]\n",
    "\n",
    "```\n",
    "\n",
    "Para os nossos testes iremos com o código, para executar os testes dentro da pagina:\n",
    "\n",
    "```bash\n",
    "pytest .\\test\n",
    "```\n",
    "\n",
    "Aqui estou dizendo que tem para entrar na pasta de teste e testar o arquivos que tiverem nela.\n",
    "\n",
    "ou podemos também especificar o arquivo :\n",
    "\n",
    "```bash\n",
    "pytest .\\test\\test.py \n",
    "```\n",
    "\n",
    "até mesmo qual é o testes que desejamos executar:\n",
    "\n",
    "```bash\n",
    "pytest .\\test\\test.py::test_squart_number\n",
    "```"
   ]
  },
  {
   "attachments": {},
   "cell_type": "markdown",
   "id": "b98ef58c",
   "metadata": {},
   "source": [
    "#### Comandos Adicionais do Terminal\n",
    "\n",
    "\n",
    "Também há podemos coloca muitos comando que vão nos dar outras varias funcionalidades sobre os nossos testes, que nos ajudaram a entender os erros é etc.\n",
    "\n",
    "|Flag | Description|\n",
    "|:---------|:----------|\n",
    "|-x | Esse comando permite ativar o que é conhecido com Fail Fast ou falha rápida, que significa que assim que houve um erro ele para os test, isso pode ser muito util para ganhar agilidade, pois a casos em que uma bateria de teste pode demorar meia hora, fail fast nos permite agir mais proativamente em tempo menor |\n",
    "|--exitfirst| mesma coisa que o -x|\n",
    "|-v| Esse ele da mais detalhes sobre a execução dos teste |\n",
    "|--verbose| mesmo efeito de \"-v\"|\n",
    "|-q| tem funcionamento oposto ao \"--verbose\", ele diminui as informações que são relatadas sobre os testes|\n",
    "|--quiet| tem mesmo efeito que \"-q\"|\n",
    "|--pdb|Abre o terminal interativo para debug no código de teste|\n",
    "|-s|Se houver sai do console como um print o pytest não vai mostrar a menos que ele tenha essa Saida|\n",
    "|--junitxml onde/nome_arquivo.xml| Nos gera ao final do teste uma relatório sobre os teste em XML|\n",
    "|-rs |Ver a razão por que um teste foi pulado, caso haja|\n",
    "|-k \"parte do nome\"| Cria um filtro para testar somente os teste que tenham parte do nome igual ao especificado |\n",
    "|--fixtures| Permite ver as fixtures criadas|\n",
    "|--collect-only| lista o que e modulo função ou classe que vai ser testado|\n",
    "|--maxfail=num| define um numero de vezes que um teste que podem falhar, caso seja excedido esse numero a execução dos testes param| \n",
    "|--capture=método|captura os print no console. Os método de captura são --capture=fd e --capture=sys. A opção --capture=sys substitui sys.stdout/stderr por arquivos in-mem. A opção --capture=fd aponta os descritores de arquivo 1 e 2 para um arquivo temporário.|\n",
    "|-l | imprime as variáveis locais de um teste no caso de falha |\n",
    "|--showlocals| imprime as variáveis locais de um teste no caso de falha|\n",
    "|–-last-failed| Executa somente os testes que falharam na ultima execução. |\n",
    "|–-lf| Mesmo efeito de --last-failed|\n",
    "|–ff| tem efeito similar ao --last-failed, entretanto apos executar os testes que falharam na ultima execução, ele executara os testes que passaram na ultima execução| \n",
    "|-–failed-first| mesmo efeito que --ff|\n",
    "|-–durations=N| Diferente do que possa parecer na verdade ele rankeia os testes mais lentos, e N é o numero de ranks que ele vai retornar|\n",
    "|-–tb=estilo| Esses flag nos permite dizer se queremos ter tracebacks, que são aqueles retornos quando o testes falha e eles mostra a função e a parte que errou. Então temos o estilo \"-–tb=no\" que ele não aparece e o padrão que é o \"-–tb=line\"|\n",
    "|--version| exibe a versão do pytest|\n",
    "|--help| para consultar ajuda da documentação da pytest|\n",
    "|-h| mesmo funcionamento do \"--help\"\n"
   ]
  },
  {
   "attachments": {},
   "cell_type": "markdown",
   "id": "50272479",
   "metadata": {},
   "source": [
    "Então poderíamos muito bem usar as juntas e de forma separada.\n",
    "\n",
    "\n",
    "```bash\n",
    "\n",
    "pytest .\\test -rs -v -s --pdb\n",
    "\n",
    "```"
   ]
  },
  {
   "attachments": {},
   "cell_type": "markdown",
   "id": "486e4915",
   "metadata": {},
   "source": [
    "Algumas informações interessante sobre as saídas, o pytest tem um padrão de resposta, de uma olhada na tabela abaixo:\n",
    "\n",
    "|Simbolo | Descrição |\n",
    "|:------:|:---------|\n",
    "|.|Passou|\n",
    "|F|Falhou |\n",
    "|x|Falha Esperada (xfail)|\n",
    "|X|Esperado que o testes falhasse, mas ele passou (XPASS)|\n",
    "|s|Pulou - Skip|\n",
    "|E|Erro - Ocorreu uma exceção fora de cenário de testes|\n",
    "\n",
    "Agora olhando para uma Saida de pytest:\n",
    "\n",
    "```shell\n",
    "\n",
    "(python-env) C:\\Users\\python-env>pytest .\\tests --pdb -s\n",
    "============================================================== test session starts ===============================================================\n",
    "platform win32 -- Python 3.10.2, pytest-7.2.0, pluggy-1.0.0\n",
    "rootdir: C:\\Users\\t\\python-env\n",
    "plugins: anyio-3.6.2, Faker-15.3.3\n",
    "collected 7 items\n",
    "\n",
    "tests\\test_calc.py ..s\n",
    "tests\\test_rename.py ....\n",
    "\n",
    "========================================================== 6 passed, 1 skipped in 0.30s ========================================================== \n",
    "```\n",
    "\n",
    "\n",
    "\n",
    "veja que antes do final da Saida temos \"tests\\test_calc.py\" e na frente dele que no final da linha tem um \"s\" esse s é a mesma referencia da tabela acima, então o que significa que, ele passou em dois teste e pulou um teste, e na linha de baixo ele passou nos quatro teste, por isso quatro pontos\n",
    "\n"
   ]
  },
  {
   "cell_type": "markdown",
   "id": "ab259ce5",
   "metadata": {},
   "source": [
    "### conceito do **One Step Test**"
   ]
  },
  {
   "attachments": {},
   "cell_type": "markdown",
   "id": "cf512cfb",
   "metadata": {},
   "source": [
    "Indo ainda no assunto de teste, a um conceito que a que queria empregar, no Livro TDD do Kent Beck, que é o conceito do ***One Step Test***, é o objetivo dele é dizer que cada teste deve testar uma única coisa, então eu vou realizar apenas um assert por teste \n",
    "\n",
    "Um exemplo é se tivéssemos uma função que aceita um valores entre 10 e 20, para teste seria recomendado testar um valor dentro do limite, ou seja entre 10 e 20, testar um valor maior que 20 e ou menor valor menor 10, então segundo esse conceito do **One Step Test**, então cada valor, teria o seu teste especifico, por mais que fosse a mesma função sendo testada."
   ]
  },
  {
   "attachments": {},
   "cell_type": "markdown",
   "id": "dd7e204d",
   "metadata": {},
   "source": [
    "## **mark** - marcado, metadados e "
   ]
  },
  {
   "attachments": {},
   "cell_type": "markdown",
   "id": "a9ef0f75",
   "metadata": {},
   "source": [
    "Os **mark** é uma funcionalidade de marcação, e nos permite simplificar camadas ou rodar casos específicos para testes específicos, usando do estruturas como **tags** para criar grupos. e podemos aplicar uma tag para mais por teste\n",
    "\n"
   ]
  },
  {
   "attachments": {},
   "cell_type": "markdown",
   "id": "c2fd940a",
   "metadata": {},
   "source": [
    "No código a seguir vamos realizar algumas marcações, onde vamos marcar os testes que são \"criticos\" e que devem rodar durante a noite, para verificar a integridade do sistema, é marcar os códigos de regressão. Assim nossas tags serão Critical e regressão, e a marcação com o mark acontece por decorator da seguinte forma:\n",
    "\n",
    "```python \n",
    "\n",
    "    @mark.nome_da_tag\n",
    "\n",
    "```\n",
    "\n",
    "Agora vamos ao código de exemplo:"
   ]
  },
  {
   "attachments": {},
   "cell_type": "markdown",
   "id": "22b493c4",
   "metadata": {},
   "source": [
    "```python \n",
    "    from pytest import mark\n",
    "\n",
    "\n",
    "    @mark.critical\n",
    "    def test_function_return_two():\n",
    "        \"\"\"\n",
    "            função explicativa que compara 2 igual a 2\n",
    "        \"\"\"\n",
    "        assert 2 == 2 \n",
    "\n",
    "    @mark.critical\n",
    "    @mark.regressao\n",
    "    def test_function_squart_two():\n",
    "        \"\"\"\n",
    "            função explicativa que eleva 2 ao quadrado e \n",
    "            compara se é igual a 4\n",
    "        \"\"\"\n",
    "        assert 2**2 == 4\n",
    "\n",
    "    \n",
    "    @mark.regressao\n",
    "    def test_function_cube_two():\n",
    "        \"\"\"\n",
    "            função explicativa que eleva 2 ao cubo e \n",
    "            compara se é igual a 8\n",
    "        \"\"\"\n",
    "        assert 2**3 == 8\n",
    "\n",
    "```"
   ]
  },
  {
   "cell_type": "markdown",
   "id": "95d0133a",
   "metadata": {},
   "source": [
    "Okay agora como vamos utilizar o mark para realizar test só na tag especifica. No terminal digite:\n",
    "\n",
    "```bash\n",
    "\n",
    "pytest .\\ -m  \"critical\"\n",
    "```"
   ]
  },
  {
   "cell_type": "markdown",
   "id": "62645c1a",
   "metadata": {},
   "source": [
    "Esse comando que digitamos, só deve testar, os testes com a tag: critical\n",
    "\n",
    "Outra coisa que podemos realizar, e não realizar os testes com uma determinada tag. Vamos ver como seria se que quisesse não executar os testes com a tag critical:\n",
    "\n",
    "```bash\n",
    "pytest .\\ -m \"not critical\"\n",
    "\n",
    "```"
   ]
  },
  {
   "attachments": {},
   "cell_type": "markdown",
   "id": "05a33d5f",
   "metadata": {},
   "source": [
    "#### **mark do próprio pytest**"
   ]
  },
  {
   "attachments": {},
   "cell_type": "markdown",
   "id": "3d1819c2",
   "metadata": {},
   "source": [
    "|mark  | description |\n",
    "|:------|:------------|\n",
    "|@mark.skip| Pula esse teste|\n",
    "|@mark.skipif| Pula o teste em determinado contexto|\n",
    "|@mark.xfail|Esperada falha no teste em certo contexto|\n",
    "|@mark.parametrize|permite criar uma lista de parâmetros que devem ser passados a função permitindo realizar um teste varias vezes com parâmetros diferentes|"
   ]
  },
  {
   "attachments": {},
   "cell_type": "markdown",
   "id": "a4708b9f",
   "metadata": {},
   "source": [
    "O primeiro que vamos ver e o skip é dentro do skip temos um parâmetro que é o reason, que identifica o motivo por que estamos pulando o teste\n",
    "\n",
    "```python\n",
    "\n",
    "@mark.skip(reason= \"não implementado ainda\")\n",
    "def test_create_factory():\n",
    "    ...\n",
    "\n",
    "```"
   ]
  },
  {
   "attachments": {},
   "cell_type": "markdown",
   "id": "4e45a277",
   "metadata": {},
   "source": [
    "E para enxergar o motivo por que esse teste vou executado temos que rodar no terminal o pytest com a flag rs  de reason\n",
    "\n",
    "```bash \n",
    "\n",
    "pytest .\\ -rs\n",
    "\n",
    "```"
   ]
  },
  {
   "cell_type": "markdown",
   "id": "8c9416b2",
   "metadata": {},
   "source": [
    "##### parametrize"
   ]
  },
  {
   "attachments": {},
   "cell_type": "markdown",
   "id": "df131d19",
   "metadata": {},
   "source": [
    "O **parametrize**, nos permite passar valores como parâmetros para as funções de teste e executar ela com diferentes parâmetros.O parametrize recebe dois parâmetros o primeiro é os nomes das entradas e o segundo uma lista com os valores que vão ser passados para esses parâmetros\n",
    "\n",
    "Primeiro vamos implementar a função que vamos testar \n",
    "\n",
    "```python \n",
    "\n",
    "def soma_2(number:int):\n",
    "    \"\"\"\n",
    "    função de somar numero mais dois\n",
    "    \"\"\"\n",
    "    return number+2\n",
    "\n",
    "def squart(number:int):\n",
    "    \"\"\"\n",
    "    Função que eleva o numero ao quadrado \n",
    "    \"\"\"\n",
    "    return n**2\n",
    "```\n",
    "\n",
    "Agora os nossos testes:\n",
    "\n",
    "\n",
    "```python\n",
    "\n",
    "@mark.parametrize(\n",
    "    'entrada', [12, 45, 78, 23]\n",
    ")\n",
    "def test_soma_mais_dois(entrada):\n",
    "\n",
    "    \"\"\"\n",
    "    Testando função que soma mais dois\n",
    "    \"\"\"\n",
    "\n",
    "    result = soma_2(entrada)\n",
    "    assert result == entrada + 2\n",
    "\n",
    "\n",
    "@mark.parametrize(\n",
    "    'entrada,esperado', \n",
    "    [(11,121), (4,16), (22, 484)]\n",
    ")\n",
    "def test_soma_mais_dois(entrada, esperado):\n",
    "\n",
    "    \"\"\"\n",
    "    Testando função que eleva a entrada ao quadrado\n",
    "    \"\"\"\n",
    "\n",
    "    result = squart(entrada)\n",
    "    assert result == esperado\n",
    "\n",
    "\n",
    "```"
   ]
  },
  {
   "attachments": {},
   "cell_type": "markdown",
   "id": "4e5fdc74",
   "metadata": {},
   "source": [
    "Veja que no segundo teste, para passar o nome dos dois parâmetros de função de teste, tivemos que passar eles separado por virgula dentro da mesma string e também dentro da nossa lista de valores agora nos temos tuplas onde o primeiro numero de cada tupla e o parâmetro com o nome de entrada e o segundo numero o parâmetro com o nome de esperado."
   ]
  },
  {
   "cell_type": "markdown",
   "id": "21adbcdf",
   "metadata": {},
   "source": [
    "##### xfail"
   ]
  },
  {
   "attachments": {},
   "cell_type": "markdown",
   "id": "36a11d3d",
   "metadata": {},
   "source": [
    "O **xfail** é um tipo de parâmetro que nos ajuda a prepara par certas condições, ele diz que é esperado que o teste falhe, e essa tag  não deve se usada para teste reverso, ou seja forçando que a operação de um error, mas sim para se preparar para certos contexto como um código que não roda na plataforma Linux ou mac, mas roda no windows, então e esperado que se eu tiver rodando o testo no Linux ele falhe, e para essas condições vamos usar o **xfail**"
   ]
  },
  {
   "attachments": {},
   "cell_type": "markdown",
   "id": "2aa65c42",
   "metadata": {},
   "source": [
    "```python\n",
    "import sys\n",
    "from pytest import mark\n",
    "from calc import squart \n",
    "\n",
    "# não roda no windows\n",
    "@mark.xfail(sys.platform == 'win32')\n",
    "def test_squart_two():\n",
    "    assert squart(2) == 4\n",
    "```"
   ]
  },
  {
   "cell_type": "markdown",
   "id": "3d9452b8",
   "metadata": {},
   "source": [
    "##### skipif"
   ]
  },
  {
   "attachments": {},
   "cell_type": "markdown",
   "id": "41687db3",
   "metadata": {},
   "source": [
    "O **skipif** serve para a mesma coisa que o xfail, se eu tiver um determinado contexto eu pulo aquele teste, se eu sei que uma coisa não roda no windows e mais fácil eu pular\n",
    "\n",
    "```python \n",
    "\n",
    "import sys\n",
    "from pytest import mark\n",
    "from calc import squart \n",
    "\n",
    "# pulo se for no windows\n",
    "# porque não roda\n",
    "@mark.skipif(sys.platform == 'win32')\n",
    "def test_squart_two():\n",
    "    assert squart(2) == 4\n",
    "\n",
    "\n",
    "```"
   ]
  },
  {
   "cell_type": "markdown",
   "id": "afa0db70",
   "metadata": {},
   "source": [
    "### fixtures"
   ]
  },
  {
   "attachments": {},
   "cell_type": "markdown",
   "id": "e4ffda39",
   "metadata": {},
   "source": [
    "Antes de entrarmos no conceito de fixtures, primeiro vamos falar de outro conceito proposto no **livro XUnit Patterns de Gerard Mezaros**, onde ocorre que uma mudanças no contexto de testes que vimos até agora onde tínhamos **3 etapas (Given, When , then)***, é é adicionado mais um. Se formos pensar a testes que são mais complexos, por exemplo um API que escreve dados em um banco de dados e necessário que nos testes tenhamos um banco de dados, é em alguns testes criar um banco de dados e só ir injetando informações pode enviesar os teste e aqui, então nesse ponto nos temos o nova etapa que é **desfazer** o que foi realizado, ou seja criou o banco de dados, você vai criar um banco de dados, e na próximas vez que você for realizar o teste você vai criar, testar e deletar o banco de dados."
   ]
  },
  {
   "attachments": {},
   "cell_type": "markdown",
   "id": "f1fefe53",
   "metadata": {},
   "source": [
    "Alguns nomes devido a esse conceito também mudam veja a seguir:\n",
    "\n",
    "\n",
    "* Setup - Given | Dado\n",
    "* Exercise - When | Quando\n",
    "* Verify - Then | Então\n",
    "* TearDown - Desmonta \n"
   ]
  },
  {
   "attachments": {},
   "cell_type": "markdown",
   "id": "5f19015f",
   "metadata": {},
   "source": [
    "##### voltando as fixtures"
   ]
  },
  {
   "cell_type": "markdown",
   "id": "c56fb063",
   "metadata": {},
   "source": [
    "AS fixtures são forma de nos introduzimos coisas a esse contexto de teses, no exemplo da API é o banco de dados. E por padrão o pytest ja tem algumas fixtures que ele disponibiliza para uso"
   ]
  },
  {
   "attachments": {},
   "cell_type": "markdown",
   "id": "ead0511e",
   "metadata": {},
   "source": [
    "Uma das primeiras que vamos ver é o **capsys** é um fixture responsável por servir como espião, geralmente utilizamos, quando queremos ver o que ocorreu dentro da função que estamos testando. no caso a seguir vamos olhar em uma função imprime no console de forma esperada, e para isso precisaremos moniorar no console a saida."
   ]
  },
  {
   "cell_type": "markdown",
   "id": "d0074cc8",
   "metadata": {},
   "source": [
    "```python \n",
    "\n",
    "def numero_par(numero):\n",
    "    \"\"\"\n",
    "    imprimi no console se o \n",
    "    numero é impar o par \n",
    "    \"\"\"\n",
    "    if par % 2 == 0:\n",
    "        print('par')\n",
    "    else:\n",
    "        print('impar')\n",
    "\n",
    "```"
   ]
  },
  {
   "attachments": {},
   "cell_type": "markdown",
   "id": "76200ad9",
   "metadata": {},
   "source": [
    "agora ao teste:\n",
    "\n",
    "```python\n",
    "\n",
    "def test_numero_par_to_par(capsys):\n",
    "\n",
    "    \"\"\"\n",
    "    dado o numero par a função testada \n",
    "    deve retornar no terminal par, verifica \n",
    "    se esse evento ocorre\n",
    "    \n",
    "    \"\"\"\n",
    "\n",
    "    numero_par(2)\n",
    "    resultado = capsys.readout()\n",
    "    assert resultado.out == \"par\\n\"\n",
    "\n",
    "```"
   ]
  },
  {
   "attachments": {},
   "cell_type": "markdown",
   "id": "9c72fbdb",
   "metadata": {},
   "source": [
    "veja que a fixture ela entra como uma parâmetro e é chamada como uma função dentro do testes, e a função do capsys.readout(), para ler o terminal\n",
    "e no final checamos se a saida e igual a \"par\\n\" (o \\n é um padrão do python no print, então ele acaba sendo sempre adicionado no final)"
   ]
  },
  {
   "cell_type": "markdown",
   "id": "e50e73a3",
   "metadata": {},
   "source": [
    "##### Criando suas fixtures"
   ]
  },
  {
   "attachments": {},
   "cell_type": "markdown",
   "id": "864ba3eb",
   "metadata": {},
   "source": [
    "para criarmos uma fixtures vamos criar uma função com o decorador fixture como o seguindo \n",
    "\n",
    "\n",
    "```python\n",
    "from pytest import fixture\n",
    "\n",
    "@fixture\n",
    "def return_3():\n",
    "    return 3\n",
    "\n",
    "\n",
    "def test_return_3(return_3):\n",
    "    result = return_3\n",
    "    assert result == 3\n",
    "\n",
    "```"
   ]
  },
  {
   "attachments": {},
   "cell_type": "markdown",
   "id": "15252a9d",
   "metadata": {},
   "source": [
    "Poder criar as nossa próprias fixtures no permite reutilizar códigos, nos nossos testes, evitando assim repetição. Entretanto vale dizer que é comum passarmos mais tempo codando as fixtures do que os teste, então uma boa dica e se usar um fixture quando o código começar a repetir "
   ]
  },
  {
   "attachments": {},
   "cell_type": "markdown",
   "id": "5504e826",
   "metadata": {},
   "source": [
    "Outra coisa importante de dizer, referente a código é a limpeza dele é que geralmente criamos um arquivo com o nome **contest.py** e nele colocamos e criamos todas as nossas fixtures dessa forma o pytest, vai interpretar as fixtures do **contest** como parte do escopo global e vamos poder utilizar elas livremente no testes"
   ]
  },
  {
   "cell_type": "markdown",
   "id": "e12f6939",
   "metadata": {},
   "source": [
    "#### escopo da fixture"
   ]
  },
  {
   "attachments": {},
   "cell_type": "markdown",
   "id": "23db76fd",
   "metadata": {},
   "source": [
    "No exemplo o Fixture e responsável por tanto criar o dado como desmontando depois da execução do teste."
   ]
  },
  {
   "attachments": {},
   "cell_type": "markdown",
   "id": "db546ac0",
   "metadata": {},
   "source": [
    "E dentro do fixture podemos definir um escopo, como assim um escopo, por padrão o fixture tem o escopo de function, ou seja a cada função onde for chamado ele vai criar o dado, testar a função e deletar apos o teste da função.E se por exemplo eu crio uma classe de teste e cada método de teste. eu crio uma objeto com fixture e eu preciso que em todos os métodos seja o mesmo objeto, como resolveria isso. No pytest nos temos alguns escopo para as fixtures e são eles:\n",
    "\n",
    "* function - default | padrão\n",
    "* class\n",
    "* module\n",
    "* package\n",
    "* session - que atua em cima da suite de teste "
   ]
  },
  {
   "attachments": {},
   "cell_type": "markdown",
   "id": "e545fb5d",
   "metadata": {},
   "source": [
    "E onde isso fica visível no meu código:\n",
    "\n",
    "```python\n",
    "from pytest import fixture\n",
    "\n",
    "# passo o escopo como parâmetro no meu fixture\n",
    "@fixture(scope='function')\n",
    "def return_3():\n",
    "    return 3\n",
    "\n",
    "\n",
    "def test_return_3(return_3):\n",
    "    result = return_3\n",
    "    assert result == 3\n",
    "\n",
    "```"
   ]
  },
  {
   "attachments": {},
   "cell_type": "markdown",
   "id": "e16cf956",
   "metadata": {},
   "source": [
    "Eu acabo passando a partir do parâmetro scope o nome do escopo que ele vai agir essa função"
   ]
  },
  {
   "attachments": {},
   "cell_type": "markdown",
   "id": "07c7c498",
   "metadata": {},
   "source": [
    "##### Mas uma coisa, da para uma fixture chamar uma outra fixture"
   ]
  },
  {
   "attachments": {},
   "cell_type": "markdown",
   "id": "cea68074",
   "metadata": {},
   "source": [
    "Sim, não a problema uma fixture chamar outra e isso pode ser algo recorrente, que nos ajudara a não duplicar linhas de código então e totalmente possível, realizar a chamada de fixture para uma fixture. \n",
    "\n",
    "\n",
    "Classes a testar:\n",
    "\n",
    "```python\n",
    "\n",
    "\n",
    "class Casa:\n",
    "    \n",
    "    def __init__(self, paredes = None):\n",
    "        self.paredes = paredes or []\n",
    "    \n",
    "    def adiciona_parede(self, parede):\n",
    "        self.paredes.append(parede)\n",
    "        return True\n",
    "\n",
    "    def get_paredes(self):\n",
    "        return self.paredes\n",
    "\n",
    "class Parede:\n",
    "    def __init__(self, localizacao):\n",
    "        self.localizacao = localizacao\n",
    "\n",
    "    def get_localizacao(self):\n",
    "        return self.localizacao \n",
    "```\n",
    "\n",
    "no **contest.py**:\n",
    "\n",
    "```python \n",
    "from pytest import fixture\n",
    "from src.casa import Casa, Parede\n",
    "\n",
    "@fixture\n",
    "def criar_casa():\n",
    "    return Casa()\n",
    "\n",
    "\n",
    "@fixture \n",
    "def adicionar_parede(criar_casa):\n",
    "    casa = criar_casa\n",
    "    casa.adicionar_parede(Parede('sudoeste'))\n",
    "    return casa \n",
    "\n",
    "```\n",
    "\n",
    "No arquivo de test:\n",
    "\n",
    "````python \n",
    "\n",
    "def test_criar_parede(adicionar_parede):\n",
    "    casa = adicionar_parede\n",
    "    \n",
    "    total_de_paredes = len(casa.get_paredes())\n",
    "\n",
    "    assert total_de_paredes == 1\n",
    "\n",
    "\n",
    "```"
   ]
  },
  {
   "attachments": {},
   "cell_type": "markdown",
   "id": "3568db7e",
   "metadata": {},
   "source": [
    "#### aproveitando o exemplo anterior e se eu quiser passar paramentos para um fixture"
   ]
  },
  {
   "attachments": {},
   "cell_type": "markdown",
   "id": "686504e5",
   "metadata": {},
   "source": [
    "E totalmente possível se adicionarmos um mark paratrize que vai passar os parâmetros de forma indireta para o fixture"
   ]
  },
  {
   "attachments": {},
   "cell_type": "markdown",
   "id": "f43d4a13",
   "metadata": {},
   "source": [
    "```python \n",
    "\n",
    "\n",
    "class Casa():\n",
    "    \n",
    "    def __init__(self, paredes = None):\n",
    "        self.paredes = paredes or []\n",
    "    \n",
    "    def adiciona_parede(self, parede):\n",
    "        self.paredes.append(parede)\n",
    "        return True\n",
    "\n",
    "    def get_paredes(self):\n",
    "        return self.paredes\n",
    "\n",
    "class Parede():\n",
    "    def __init__(self, localizacao):\n",
    "        self.localizacao = localizacao\n",
    "\n",
    "    def get_localizacao(self):\n",
    "        return self.localizacao \n",
    "\n",
    "```\n",
    "\n",
    "Veja que adicionamos mais uma parâmetro a fixture \"adicionar_parede\", que é request que vai receber o valor\n",
    "\n",
    "```python\n",
    "    \n",
    "from src.arquivs import Casa, Parede\n",
    "from pytest import fixture, mark\n",
    "\n",
    "\n",
    "@fixture\n",
    "def criar_casa():\n",
    "    return Casa()\n",
    "\n",
    "\n",
    "@fixture\n",
    "def adicionar_parede(criar_casa, request):\n",
    "    casa = criar_casa\n",
    "    local = request.param\n",
    "    casa.adiciona_parede(Parede(local))\n",
    "    return casa \n",
    "\n",
    "```\n",
    "\n",
    "E aqui utilizamos o parametrize para realizar a operação\n",
    "\n",
    "```python\n",
    "\n",
    "@mark.parametrize(\n",
    "    'adicionar_parede',\n",
    "    ['sudoeste', 'noroeste', 'norte', 'oeste'],\n",
    "    indirect=True\n",
    ")\n",
    "def test_criar_parede(adicionar_parede):\n",
    "    casa = adicionar_parede\n",
    "    total_de_paredes = len(casa.get_paredes())\n",
    "\n",
    "    assert total_de_paredes == 1\n",
    "\n",
    "\n",
    "```"
   ]
  }
 ],
 "metadata": {
  "kernelspec": {
   "display_name": "Python 3 (ipykernel)",
   "language": "python",
   "name": "python3"
  },
  "language_info": {
   "codemirror_mode": {
    "name": "ipython",
    "version": 3
   },
   "file_extension": ".py",
   "mimetype": "text/x-python",
   "name": "python",
   "nbconvert_exporter": "python",
   "pygments_lexer": "ipython3",
   "version": "3.10.2"
  },
  "vscode": {
   "interpreter": {
    "hash": "369f2c481f4da34e4445cda3fffd2e751bd1c4d706f27375911949ba6bb62e1c"
   }
  }
 },
 "nbformat": 4,
 "nbformat_minor": 5
}
